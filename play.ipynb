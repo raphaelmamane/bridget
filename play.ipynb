{
 "cells": [
  {
   "cell_type": "code",
   "execution_count": 4,
   "metadata": {},
   "outputs": [],
   "source": [
    "import pandas as pd\n",
    "pd.set_option('display.max_columns', 500)"
   ]
  },
  {
   "cell_type": "code",
   "execution_count": 7,
   "metadata": {},
   "outputs": [],
   "source": [
    "df = pd.read_csv('./data/fleets.csv')\n",
    "df = df[df['Fleet Size'].str.isnumeric().fillna(True)].reset_index(drop=True)\n",
    "df['utm_source'] = df['utm_source'].replace({'google':'Google_paid','Google':'Google_organic'}).fillna('unknown')\n",
    "df.to_parquet('./data/fleets.parquet')\n",
    "\n",
    "# df = pd.read_csv('./data/incidents.csv')\n",
    "# df.to_parquet('./data/incidents.parquet')\n",
    "\n",
    "# df = pd.read_csv('./data/test_dataset.csv')\n",
    "# df.to_csv('./data/marketing.csv')\n",
    "# df.to_parquet('./data/marketing.parquet')"
   ]
  },
  {
   "cell_type": "code",
   "execution_count": 6,
   "metadata": {},
   "outputs": [
    {
     "data": {
      "text/plain": [
       "array(['Pending Lead Qualification', 'Sales Qualified Lead',\n",
       "       'Marketing Qualified Lead', 'Unqualified', 'Customer',\n",
       "       'Canceled subscription', '[Opportunity]', nan], dtype=object)"
      ]
     },
     "execution_count": 6,
     "metadata": {},
     "output_type": "execute_result"
    }
   ],
   "source": [
    "df['Lifecycle Stage'].unique()"
   ]
  }
 ],
 "metadata": {
  "kernelspec": {
   "display_name": "bridget",
   "language": "python",
   "name": "python3"
  },
  "language_info": {
   "codemirror_mode": {
    "name": "ipython",
    "version": 3
   },
   "file_extension": ".py",
   "mimetype": "text/x-python",
   "name": "python",
   "nbconvert_exporter": "python",
   "pygments_lexer": "ipython3",
   "version": "3.11.3"
  },
  "orig_nbformat": 4,
  "vscode": {
   "interpreter": {
    "hash": "33007768ab22cb95bde0a2021848c150ff478156d1abaef56aacb35eed97b30b"
   }
  }
 },
 "nbformat": 4,
 "nbformat_minor": 2
}
